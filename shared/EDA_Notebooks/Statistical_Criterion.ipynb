{
 "cells": [
  {
   "cell_type": "code",
   "execution_count": 4,
   "metadata": {},
   "outputs": [],
   "source": [
    "import seaborn as sb\n",
    "import pandas as pd\n",
    "import numpy as np\n",
    "import sys\n",
    "import os\n",
    "sys.path.append(os.path.realpath('../../src/modules/data_interface'))\n",
    "import data_interface as di"
   ]
  },
  {
   "cell_type": "code",
   "execution_count": 27,
   "metadata": {},
   "outputs": [
    {
     "name": "stdout",
     "output_type": "stream",
     "text": [
      "Opening DB connection\n",
      "Engine created\n",
      "DB connection successful!\n"
     ]
    },
    {
     "data": {
      "text/plain": [
       "<AxesSubplot:ylabel='Frequency'>"
      ]
     },
     "execution_count": 27,
     "metadata": {},
     "output_type": "execute_result"
    },
    {
     "data": {
      "image/png": "[encoded data removed]",
      "text/plain": [
       "<Figure size 432x288 with 1 Axes>"
      ]
     },
     "metadata": {
      "needs_background": "light"
     },
     "output_type": "display_data"
    }
   ],
   "source": [
    "#Getting the topics\n",
    "db_conn = di.db_connection()\n",
    "topics = di.get_conpes_table(db_conn)\n",
    "topics.plot.hist(column='counttopic', bins=100)"
   ]
  },
  {
   "cell_type": "code",
   "execution_count": 29,
   "metadata": {},
   "outputs": [
    {
     "data": {
      "text/html": [
       "<div>\n",
       "<style scoped>\n",
       "    .dataframe tbody tr th:only-of-type {\n",
       "        vertical-align: middle;\n",
       "    }\n",
       "\n",
       "    .dataframe tbody tr th {\n",
       "        vertical-align: top;\n",
       "    }\n",
       "\n",
       "    .dataframe thead th {\n",
       "        text-align: right;\n",
       "    }\n",
       "</style>\n",
       "<table border=\"1\" class=\"dataframe\">\n",
       "  <thead>\n",
       "    <tr style=\"text-align: right;\">\n",
       "      <th></th>\n",
       "      <th>topicid</th>\n",
       "      <th>topic</th>\n",
       "      <th>conpesno</th>\n",
       "      <th>counttopic</th>\n",
       "    </tr>\n",
       "  </thead>\n",
       "  <tbody>\n",
       "    <tr>\n",
       "      <th>134584</th>\n",
       "      <td>146928</td>\n",
       "      <td>entidades</td>\n",
       "      <td>3997</td>\n",
       "      <td>15</td>\n",
       "    </tr>\n",
       "    <tr>\n",
       "      <th>50984</th>\n",
       "      <td>55801</td>\n",
       "      <td>agentes</td>\n",
       "      <td>4040</td>\n",
       "      <td>15</td>\n",
       "    </tr>\n",
       "    <tr>\n",
       "      <th>272408</th>\n",
       "      <td>294929</td>\n",
       "      <td>permite</td>\n",
       "      <td>3920</td>\n",
       "      <td>15</td>\n",
       "    </tr>\n",
       "    <tr>\n",
       "      <th>199245</th>\n",
       "      <td>216147</td>\n",
       "      <td>medición</td>\n",
       "      <td>3960</td>\n",
       "      <td>15</td>\n",
       "    </tr>\n",
       "    <tr>\n",
       "      <th>199244</th>\n",
       "      <td>216146</td>\n",
       "      <td>planificación</td>\n",
       "      <td>3960</td>\n",
       "      <td>15</td>\n",
       "    </tr>\n",
       "    <tr>\n",
       "      <th>...</th>\n",
       "      <td>...</td>\n",
       "      <td>...</td>\n",
       "      <td>...</td>\n",
       "      <td>...</td>\n",
       "    </tr>\n",
       "    <tr>\n",
       "      <th>161374</th>\n",
       "      <td>175915</td>\n",
       "      <td>titulares</td>\n",
       "      <td>3984</td>\n",
       "      <td>2</td>\n",
       "    </tr>\n",
       "    <tr>\n",
       "      <th>161364</th>\n",
       "      <td>175902</td>\n",
       "      <td>omisión</td>\n",
       "      <td>3984</td>\n",
       "      <td>2</td>\n",
       "    </tr>\n",
       "    <tr>\n",
       "      <th>161361</th>\n",
       "      <td>175899</td>\n",
       "      <td>parámetros</td>\n",
       "      <td>3984</td>\n",
       "      <td>2</td>\n",
       "    </tr>\n",
       "    <tr>\n",
       "      <th>161360</th>\n",
       "      <td>175898</td>\n",
       "      <td>docentes</td>\n",
       "      <td>3984</td>\n",
       "      <td>2</td>\n",
       "    </tr>\n",
       "    <tr>\n",
       "      <th>167236</th>\n",
       "      <td>182384</td>\n",
       "      <td>continuar</td>\n",
       "      <td>3981</td>\n",
       "      <td>2</td>\n",
       "    </tr>\n",
       "  </tbody>\n",
       "</table>\n",
       "<p>141430 rows × 4 columns</p>\n",
       "</div>"
      ],
      "text/plain": [
       "        topicid          topic conpesno  counttopic\n",
       "134584   146928      entidades     3997          15\n",
       "50984     55801        agentes     4040          15\n",
       "272408   294929        permite     3920          15\n",
       "199245   216147       medición     3960          15\n",
       "199244   216146  planificación     3960          15\n",
       "...         ...            ...      ...         ...\n",
       "161374   175915      titulares     3984           2\n",
       "161364   175902        omisión     3984           2\n",
       "161361   175899     parámetros     3984           2\n",
       "161360   175898       docentes     3984           2\n",
       "167236   182384      continuar     3981           2\n",
       "\n",
       "[141430 rows x 4 columns]"
      ]
     },
     "execution_count": 29,
     "metadata": {},
     "output_type": "execute_result"
    }
   ],
   "source": [
    "topics_no_tails = topics[(topics['counttopic'] > topics['counttopic'].quantile(0.05)) & (topics['counttopic'] < topics['counttopic'].quantile(0.95))]\n",
    "topics_no_tails.sort_values(by='counttopic', ascending=False)\n"
   ]
  },
  {
   "cell_type": "code",
   "execution_count": 30,
   "metadata": {},
   "outputs": [
    {
     "data": {
      "text/plain": [
       "<AxesSubplot:ylabel='Frequency'>"
      ]
     },
     "execution_count": 30,
     "metadata": {},
     "output_type": "execute_result"
    },
    {
     "data": {
      "image/png": "[encoded data removed]",
      "text/plain": [
       "<Figure size 432x288 with 1 Axes>"
      ]
     },
     "metadata": {
      "needs_background": "light"
     },
     "output_type": "display_data"
    }
   ],
   "source": [
    "topics_no_tails.plot.hist(column='counttopic', bins=100)"
   ]
  }
 ],
 "metadata": {
  "interpreter": {
   "hash": "31f2aee4e71d21fbe5cf8b01ff0e069b9275f58929596ceb00d14d90e3e16cd6"
  },
  "kernelspec": {
   "display_name": "Python 3.8.10 64-bit",
   "language": "python",
   "name": "python3"
  },
  "language_info": {
   "codemirror_mode": {
    "name": "ipython",
    "version": 3
   },
   "file_extension": ".py",
   "mimetype": "text/x-python",
   "name": "python",
   "nbconvert_exporter": "python",
   "pygments_lexer": "ipython3",
   "version": "3.8.10"
  },
  "orig_nbformat": 4
 },
 "nbformat": 4,
 "nbformat_minor": 2
}
